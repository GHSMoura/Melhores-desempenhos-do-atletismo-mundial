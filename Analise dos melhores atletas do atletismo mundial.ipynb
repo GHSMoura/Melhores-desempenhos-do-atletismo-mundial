{
  "nbformat": 4,
  "nbformat_minor": 0,
  "metadata": {
    "colab": {
      "provenance": [],
      "authorship_tag": "ABX9TyMgkSUKpvV13dhRSLXAgfZb",
      "include_colab_link": true
    },
    "kernelspec": {
      "name": "python3",
      "display_name": "Python 3"
    },
    "language_info": {
      "name": "python"
    }
  },
  "cells": [
    {
      "cell_type": "markdown",
      "metadata": {
        "id": "view-in-github",
        "colab_type": "text"
      },
      "source": [
        "<a href=\"https://colab.research.google.com/github/GHSMoura/Melhores-desempenhos-do-atletismo-mundial/blob/main/Analise%20dos%20melhores%20atletas%20do%20atletismo%20mundial.ipynb\" target=\"_parent\"><img src=\"https://colab.research.google.com/assets/colab-badge.svg\" alt=\"Open In Colab\"/></a>"
      ]
    },
    {
      "cell_type": "markdown",
      "source": [
        "PROJETO 5 -Analise do Conjunto de dados dos melhores desempenhos de todos os tempos do atletismo mundial"
      ],
      "metadata": {
        "id": "IYMZy7GY4cgD"
      }
    },
    {
      "cell_type": "markdown",
      "source": [
        "Carregando/Importando Dados"
      ],
      "metadata": {
        "id": "kGGp3__t4Zq7"
      }
    },
    {
      "cell_type": "code",
      "execution_count": null,
      "metadata": {
        "colab": {
          "base_uri": "https://localhost:8080/"
        },
        "id": "pf-Pn-cxtmM1",
        "outputId": "a3f356f3-227c-4642-ad98-b7ca9bd2462b"
      },
      "outputs": [
        {
          "output_type": "stream",
          "name": "stdout",
          "text": [
            "Downloading from https://www.kaggle.com/api/v1/datasets/download/kgmuchiri/world-athletics-all-time-dataset?dataset_version_number=2...\n"
          ]
        },
        {
          "output_type": "stream",
          "name": "stderr",
          "text": [
            "100%|██████████| 55.0M/55.0M [00:00<00:00, 164MB/s]"
          ]
        },
        {
          "output_type": "stream",
          "name": "stdout",
          "text": [
            "Extracting files...\n"
          ]
        },
        {
          "output_type": "stream",
          "name": "stderr",
          "text": [
            "\n"
          ]
        },
        {
          "output_type": "stream",
          "name": "stdout",
          "text": [
            "Path to dataset files: /root/.cache/kagglehub/datasets/kgmuchiri/world-athletics-all-time-dataset/versions/2\n"
          ]
        }
      ],
      "source": [
        "import kagglehub\n",
        "\n",
        "# Download latest version\n",
        "path = kagglehub.dataset_download(\"kgmuchiri/world-athletics-all-time-dataset\")\n",
        "\n",
        "print(\"Path to dataset files:\", path)"
      ]
    },
    {
      "cell_type": "markdown",
      "source": [
        "Verificando arquivos disponíveis"
      ],
      "metadata": {
        "id": "Uk216rPDyNVy"
      }
    },
    {
      "cell_type": "code",
      "source": [
        "import os\n",
        "\n",
        "# Listar arquivos disponíveis no diretório do dataset\n",
        "print(os.listdir(path))"
      ],
      "metadata": {
        "colab": {
          "base_uri": "https://localhost:8080/"
        },
        "id": "P7dLvLdlvJhu",
        "outputId": "296b5577-1055-4db6-f63a-e5e30987bd1e"
      },
      "execution_count": null,
      "outputs": [
        {
          "output_type": "stream",
          "name": "stdout",
          "text": [
            "['split_by_type', 'all_disciplines_combined.csv', 'individual_events.csv', 'split_by_discipline', 'relay_events.csv']\n"
          ]
        }
      ]
    },
    {
      "cell_type": "markdown",
      "source": [
        "Carregando dados"
      ],
      "metadata": {
        "id": "s9v3dl6gyCnJ"
      }
    },
    {
      "cell_type": "code",
      "source": [
        "import pandas as pd\n",
        "\n",
        "# Definir o caminho correto do arquivo\n",
        "file_path = f\"{path}/individual_events.csv\"\n",
        "\n",
        "# Carregar os dados\n",
        "df = pd.read_csv(file_path, encoding=\"ISO-8859-1\")\n",
        "\n",
        "# Exibir as primeiras linhas para inspeção\n",
        "print(df.head())"
      ],
      "metadata": {
        "colab": {
          "base_uri": "https://localhost:8080/"
        },
        "id": "LEa7OJpbvWrT",
        "outputId": "d247f38e-0418-41c0-aecb-f117b2210399"
      },
      "execution_count": null,
      "outputs": [
        {
          "output_type": "stream",
          "name": "stdout",
          "text": [
            "   rank   mark  wind      competitor         dob nationality position  \\\n",
            "0     1  12.72   1.0     Sasha ZHOYA  2002-06-25         FRA        1   \n",
            "1     1   12.8   0.3   Aries MERRITT  1985-07-24         USA        1   \n",
            "2     2  12.81   1.8  Grant HOLLOWAY  1997-11-19         USA     1sf1   \n",
            "3     3  12.84   1.6     Devon ALLEN  1994-12-12         USA        1   \n",
            "4     4  12.86   2.0  Grant HOLLOWAY  1997-11-19         USA        1   \n",
            "\n",
            "                                               venue        date  \\\n",
            "0  Moi International Sports Centre, Kasarani, Nai...  2021-08-21   \n",
            "1                  Boudewijnstadion, Bruxelles (BEL)  2012-09-07   \n",
            "2                    Hayward Field, Eugene, OR (USA)  2021-06-26   \n",
            "3                  Icahn Stadium, New York, NY (USA)  2022-06-12   \n",
            "4                    Hayward Field, Eugene, OR (USA)  2024-06-28   \n",
            "\n",
            "   result_score          discipline     type   sex age_cat  \\\n",
            "0           NaN  110m-hurdles-990cm  hurdles  male     u20   \n",
            "1        1294.0  110-metres-hurdles  hurdles  male  senior   \n",
            "2        1292.0  110-metres-hurdles  hurdles  male  senior   \n",
            "3        1286.0  110-metres-hurdles  hurdles  male  senior   \n",
            "4        1282.0  110-metres-hurdles  hurdles  male  senior   \n",
            "\n",
            "  normalized_discipline track_field  mark_numeric venue_country  age_at_event  \\\n",
            "0    110-metres-hurdles       track         12.72           KEN          19.0   \n",
            "1    110-metres-hurdles       track         12.80           BEL          27.0   \n",
            "2    110-metres-hurdles       track         12.81           USA          23.0   \n",
            "3    110-metres-hurdles       track         12.84           USA          27.0   \n",
            "4    110-metres-hurdles       track         12.86           USA          26.0   \n",
            "\n",
            "   season  \n",
            "0    2021  \n",
            "1    2012  \n",
            "2    2021  \n",
            "3    2022  \n",
            "4    2024  \n"
          ]
        },
        {
          "output_type": "stream",
          "name": "stderr",
          "text": [
            "<ipython-input-3-2759829603>:7: DtypeWarning: Columns (1) have mixed types. Specify dtype option on import or set low_memory=False.\n",
            "  df = pd.read_csv(file_path, encoding=\"ISO-8859-1\")\n"
          ]
        }
      ]
    },
    {
      "cell_type": "markdown",
      "source": [
        "Verificando a estrutura do Dataset"
      ],
      "metadata": {
        "id": "JrBBys6Zx9Zg"
      }
    },
    {
      "cell_type": "code",
      "source": [
        "# Mostrar informações gerais do dataset\n",
        "print(df.info())\n",
        "\n",
        "# Verificar valores ausentes\n",
        "print(df.isnull().sum())\n",
        "\n",
        "# Estatísticas gerais\n",
        "print(df.describe())"
      ],
      "metadata": {
        "colab": {
          "base_uri": "https://localhost:8080/"
        },
        "id": "fuJ5klwuvaQd",
        "outputId": "b82d1eaf-5451-4645-a40c-0d82db52bfa2"
      },
      "execution_count": null,
      "outputs": [
        {
          "output_type": "stream",
          "name": "stdout",
          "text": [
            "<class 'pandas.core.frame.DataFrame'>\n",
            "RangeIndex: 496909 entries, 0 to 496908\n",
            "Data columns (total 20 columns):\n",
            " #   Column                 Non-Null Count   Dtype  \n",
            "---  ------                 --------------   -----  \n",
            " 0   rank                   496909 non-null  int64  \n",
            " 1   mark                   496909 non-null  object \n",
            " 2   wind                   149360 non-null  float64\n",
            " 3   competitor             496909 non-null  object \n",
            " 4   dob                    490043 non-null  object \n",
            " 5   nationality            496909 non-null  object \n",
            " 6   position               493878 non-null  object \n",
            " 7   venue                  496909 non-null  object \n",
            " 8   date                   496909 non-null  object \n",
            " 9   result_score           487427 non-null  float64\n",
            " 10  discipline             496909 non-null  object \n",
            " 11  type                   496909 non-null  object \n",
            " 12  sex                    496909 non-null  object \n",
            " 13  age_cat                496909 non-null  object \n",
            " 14  normalized_discipline  496909 non-null  object \n",
            " 15  track_field            496909 non-null  object \n",
            " 16  mark_numeric           496909 non-null  float64\n",
            " 17  venue_country          496902 non-null  object \n",
            " 18  age_at_event           490043 non-null  float64\n",
            " 19  season                 496909 non-null  int64  \n",
            "dtypes: float64(4), int64(2), object(14)\n",
            "memory usage: 75.8+ MB\n",
            "None\n",
            "rank                          0\n",
            "mark                          0\n",
            "wind                     347549\n",
            "competitor                    0\n",
            "dob                        6866\n",
            "nationality                   0\n",
            "position                   3031\n",
            "venue                         0\n",
            "date                          0\n",
            "result_score               9482\n",
            "discipline                    0\n",
            "type                          0\n",
            "sex                           0\n",
            "age_cat                       0\n",
            "normalized_discipline         0\n",
            "track_field                   0\n",
            "mark_numeric                  0\n",
            "venue_country                 7\n",
            "age_at_event               6866\n",
            "season                        0\n",
            "dtype: int64\n",
            "                rank           wind   result_score   mark_numeric  \\\n",
            "count  496909.000000  149360.000000  487427.000000  496909.000000   \n",
            "mean     8318.496767       0.453139    1127.892045     703.933789   \n",
            "std      7731.536543       0.939282      69.873331    2082.876755   \n",
            "min         1.000000      -9.200000       0.000000       1.900000   \n",
            "25%      2027.000000      -0.100000    1106.000000      10.280000   \n",
            "50%      6053.000000       0.500000    1138.000000      20.700000   \n",
            "75%     12398.000000       1.200000    1167.000000      62.840000   \n",
            "max     36702.000000       2.000000    1382.000000   17995.000000   \n",
            "\n",
            "        age_at_event         season  \n",
            "count  490043.000000  496909.000000  \n",
            "mean       24.724006    2008.924797  \n",
            "std         4.516987      11.905942  \n",
            "min       -14.000000    1935.000000  \n",
            "25%        22.000000    2001.000000  \n",
            "50%        24.000000    2011.000000  \n",
            "75%        28.000000    2019.000000  \n",
            "max        52.000000    2025.000000  \n"
          ]
        }
      ]
    },
    {
      "cell_type": "markdown",
      "source": [
        "Tratando os valores nulos"
      ],
      "metadata": {
        "id": "pFWACPBNvfLd"
      }
    },
    {
      "cell_type": "code",
      "source": [
        "# Preencher valores ausentes em colunas numéricas com a média\n",
        "numeric_cols = df.select_dtypes(include=['float64', 'int64']).columns\n",
        "df[numeric_cols] = df[numeric_cols].fillna(df[numeric_cols].mean())\n",
        "\n",
        "# Preencher valores ausentes em colunas categóricas com \"Desconhecido\"\n",
        "categorical_cols = df.select_dtypes(include=['object']).columns\n",
        "df[categorical_cols] = df[categorical_cols].fillna(\"Desconhecido\")\n",
        "\n",
        "print(\"\\nDados tratados!\")"
      ],
      "metadata": {
        "colab": {
          "base_uri": "https://localhost:8080/"
        },
        "id": "gCsQaj1OvcNG",
        "outputId": "86c41b30-2277-438a-fc60-4a72b1746659"
      },
      "execution_count": null,
      "outputs": [
        {
          "output_type": "stream",
          "name": "stdout",
          "text": [
            "\n",
            "Dados tratados!\n"
          ]
        }
      ]
    },
    {
      "cell_type": "markdown",
      "source": [
        "Verificando nomes das colunas"
      ],
      "metadata": {
        "id": "xJHN6BLYvlOe"
      }
    },
    {
      "cell_type": "code",
      "source": [
        "print(df.columns)  # Exibir os nomes das colunas do dataset"
      ],
      "metadata": {
        "colab": {
          "base_uri": "https://localhost:8080/"
        },
        "id": "KjH4inFdvoq_",
        "outputId": "ffcd6861-180b-4c9a-f323-fc025d4687f5"
      },
      "execution_count": null,
      "outputs": [
        {
          "output_type": "stream",
          "name": "stdout",
          "text": [
            "Index(['rank', 'mark', 'wind', 'competitor', 'dob', 'nationality', 'position',\n",
            "       'venue', 'date', 'result_score', 'discipline', 'type', 'sex', 'age_cat',\n",
            "       'normalized_discipline', 'track_field', 'mark_numeric', 'venue_country',\n",
            "       'age_at_event', 'season'],\n",
            "      dtype='object')\n"
          ]
        }
      ]
    },
    {
      "cell_type": "markdown",
      "source": [
        "Verificando os valores na coluna discipline"
      ],
      "metadata": {
        "id": "hfb7nh6exML1"
      }
    },
    {
      "cell_type": "code",
      "source": [
        "print(df[\"discipline\"].unique())  # Exibir todos os tipos de eventos disponíveis"
      ],
      "metadata": {
        "colab": {
          "base_uri": "https://localhost:8080/"
        },
        "id": "RHfa1aq6w3c3",
        "outputId": "e4f5b734-55b9-4534-b3df-c6604f088089"
      },
      "execution_count": null,
      "outputs": [
        {
          "output_type": "stream",
          "name": "stdout",
          "text": [
            "['110m-hurdles-990cm' '110-metres-hurdles' '110m-hurdles-914cm'\n",
            " '400-metres-hurdles' '400m-hurdles-840cm' '10-miles-road' '15-kilometres'\n",
            " 'high-jump' '200-metres' '20-kilometres-race-walk'\n",
            " '50-kilometres-race-walk' '100-metres-hurdles' '100m-hurdles-762cm'\n",
            " 'pole-vault' '400-metres' '300-metres' 'marathon' 'long-jump'\n",
            " '3000-metres-race-walk' '20000-metres-race-walk' 'triple-jump'\n",
            " '5000-metres-race-walk' '10-kilometres' 'heptathlon' 'heptathlon-girls'\n",
            " 'discus-throw' 'discus-throw-1500kg' 'discus-throw-1750kg'\n",
            " 'javelin-throw' 'javelin-throw-500g' '5-kilometres-race-walk'\n",
            " '35-kilometres-race-walk' 'half-marathon' '55-metres'\n",
            " '10000-metres-race-walk' '5-kilometres' '30-kilometres-race-walk'\n",
            " '100-metres' '50-metres' '10-kilometres-race-walk' 'shot-put-5kg'\n",
            " 'shot-put' 'shot-put-6kg' '60-metres' 'javelin-throw-700g' 'decathlon'\n",
            " 'decathlon-u20' 'decathlon-boys' 'shot-put-3kg' '20-kilometres'\n",
            " 'hammer-throw-5kg' 'hammer-throw' 'hammer-throw-6kg' 'hammer-throw-3kg']\n"
          ]
        }
      ]
    },
    {
      "cell_type": "markdown",
      "source": [
        "Corrigindo os nomes das provas longas e curtas"
      ],
      "metadata": {
        "id": "U6P_weTrxZ8s"
      }
    },
    {
      "cell_type": "code",
      "source": [
        "# Ajustando os nomes conforme o resultado da etapa anterior\n",
        "provas_curtas = df[df[\"discipline\"].str.contains(\"100|200|400\", case=False, na=False)]\n",
        "provas_longas = df[df[\"discipline\"].str.contains(\"800|1500|5000|10000|marathon\", case=False, na=False)]"
      ],
      "metadata": {
        "id": "7waM86kzxT4L"
      },
      "execution_count": null,
      "outputs": []
    },
    {
      "cell_type": "markdown",
      "source": [
        "Verificando se existe registro de que os dados sao numericos"
      ],
      "metadata": {
        "id": "wj5MpYGKxhwl"
      }
    },
    {
      "cell_type": "code",
      "source": [
        "print(df[[\"discipline\", \"mark\", \"mark_numeric\"]].head())  # Inspecionar formato dos dados"
      ],
      "metadata": {
        "colab": {
          "base_uri": "https://localhost:8080/"
        },
        "id": "ow6Kl0bcxswe",
        "outputId": "01ec6b78-930c-49d8-e6c9-81b0ebc5695f"
      },
      "execution_count": null,
      "outputs": [
        {
          "output_type": "stream",
          "name": "stdout",
          "text": [
            "           discipline   mark  mark_numeric\n",
            "0  110m-hurdles-990cm  12.72         12.72\n",
            "1  110-metres-hurdles   12.8         12.80\n",
            "2  110-metres-hurdles  12.81         12.81\n",
            "3  110-metres-hurdles  12.84         12.84\n",
            "4  110-metres-hurdles  12.86         12.86\n"
          ]
        }
      ]
    },
    {
      "cell_type": "markdown",
      "source": [
        "Filtrar os principais atletas de provas longas e curtas"
      ],
      "metadata": {
        "id": "6ETFxgezwJHC"
      }
    },
    {
      "cell_type": "code",
      "source": [
        "# Filtrar provas curtas (100m, 200m, 400m)\n",
        "provas_curtas = df[df[\"discipline\"].isin([\"100-metres\", \"200-metres\", \"400-metres\"])]\n",
        "\n",
        "# Filtrar provas longas (800m, 1500m, 5000m, 10000m, maratona)\n",
        "provas_longas = df[df[\"discipline\"].isin([\"800-metres\", \"1500-metres\", \"5000-metres\", \"10000-metres\", \"marathon\"])]\n",
        "\n",
        "# Top 10 melhores tempos nas provas curtas\n",
        "top_curtas = provas_curtas.sort_values(by=\"mark_numeric\", ascending=True).head(10)\n",
        "\n",
        "# Top 10 melhores tempos nas provas longas\n",
        "top_longas = provas_longas.sort_values(by=\"mark_numeric\", ascending=True).head(10)\n",
        "\n",
        "print(\"\\n🏅 Top 10 melhores desempenhos nas provas curtas:\")\n",
        "print(top_curtas[[\"competitor\", \"discipline\", \"mark\", \"date\"]])\n",
        "\n",
        "print(\"\\n🏅 Top 10 melhores desempenhos nas provas longas:\")\n",
        "print(top_longas[[\"competitor\", \"discipline\", \"mark\", \"date\"]])"
      ],
      "metadata": {
        "colab": {
          "base_uri": "https://localhost:8080/"
        },
        "id": "WHKYLzkcwUaC",
        "outputId": "762d49a5-a4e0-4e77-c834-291174564494"
      },
      "execution_count": null,
      "outputs": [
        {
          "output_type": "stream",
          "name": "stdout",
          "text": [
            "\n",
            "🏅 Top 10 melhores desempenhos nas provas curtas:\n",
            "           competitor  discipline  mark        date\n",
            "397965     Usain BOLT  100-metres  9.58  2009-08-16\n",
            "397966     Usain BOLT  100-metres  9.63  2012-08-05\n",
            "397969    Yohan BLAKE  100-metres  9.69  2012-08-23\n",
            "397967     Usain BOLT  100-metres  9.69  2008-08-16\n",
            "397968      Tyson GAY  100-metres  9.69  2009-09-20\n",
            "397970      Tyson GAY  100-metres  9.71  2009-08-16\n",
            "397972   Asafa POWELL  100-metres  9.72  2008-09-02\n",
            "397971     Usain BOLT  100-metres  9.72  2008-05-31\n",
            "397974  Justin GATLIN  100-metres  9.74  2015-05-15\n",
            "397973   Asafa POWELL  100-metres  9.74  2007-09-09\n",
            "\n",
            "🏅 Top 10 melhores desempenhos nas provas longas:\n",
            "                   competitor discipline     mark        date\n",
            "132668          Kelvin KIPTUM   marathon  2:00:35  2023-10-08\n",
            "132669         Eliud KIPCHOGE   marathon  2:01:09  2022-09-25\n",
            "132670          Kelvin KIPTUM   marathon  2:01:25  2023-04-23\n",
            "132671         Eliud KIPCHOGE   marathon  2:01:39  2018-09-16\n",
            "132672        Kenenisa BEKELE   marathon  2:01:41  2019-09-29\n",
            "132673            Sisay LEMMA   marathon  2:01:48  2023-12-03\n",
            "132674          Kelvin KIPTUM   marathon  2:01:53  2022-12-04\n",
            "132675  Sabastian Kimaru SAWE   marathon  2:02:05  2024-12-01\n",
            "132676         Benson KIPRUTO   marathon  2:02:16  2024-03-03\n",
            "132677  Sabastian Kimaru SAWE   marathon  2:02:27  2025-04-27\n"
          ]
        }
      ]
    },
    {
      "cell_type": "markdown",
      "source": [
        "Top 10 das provas de 100, 200 e 400"
      ],
      "metadata": {
        "id": "MBeWx7T20gQr"
      }
    },
    {
      "cell_type": "code",
      "source": [
        "# Filtrar provas curtas\n",
        "provas_curtas = df[df[\"discipline\"].isin([\"100-metres\", \"200-metres\", \"400-metres\"])]\n",
        "\n",
        "# Ordenar por melhor tempo\n",
        "top_curtas = provas_curtas.sort_values(by=\"mark_numeric\", ascending=True).head(10)\n",
        "\n",
        "# Exibir os resultados\n",
        "print(\"\\n🏅 Top 10 melhores desempenhos nas provas curtas:\")\n",
        "print(top_curtas[[\"competitor\", \"discipline\", \"mark\", \"date\"]])"
      ],
      "metadata": {
        "colab": {
          "base_uri": "https://localhost:8080/"
        },
        "id": "YSmaqH0g0k4z",
        "outputId": "09862019-8c3f-47b6-cf5d-2ee2a4e4fae6"
      },
      "execution_count": null,
      "outputs": [
        {
          "output_type": "stream",
          "name": "stdout",
          "text": [
            "\n",
            "🏅 Top 10 melhores desempenhos nas provas curtas:\n",
            "           competitor  discipline  mark        date\n",
            "397965     Usain BOLT  100-metres  9.58  2009-08-16\n",
            "397966     Usain BOLT  100-metres  9.63  2012-08-05\n",
            "397969    Yohan BLAKE  100-metres  9.69  2012-08-23\n",
            "397967     Usain BOLT  100-metres  9.69  2008-08-16\n",
            "397968      Tyson GAY  100-metres  9.69  2009-09-20\n",
            "397970      Tyson GAY  100-metres  9.71  2009-08-16\n",
            "397972   Asafa POWELL  100-metres  9.72  2008-09-02\n",
            "397971     Usain BOLT  100-metres  9.72  2008-05-31\n",
            "397974  Justin GATLIN  100-metres  9.74  2015-05-15\n",
            "397973   Asafa POWELL  100-metres  9.74  2007-09-09\n"
          ]
        }
      ]
    },
    {
      "cell_type": "markdown",
      "source": [
        "Top 10 melhores desempenhos nas provas longas"
      ],
      "metadata": {
        "id": "UtC4Ex-r0sPc"
      }
    },
    {
      "cell_type": "code",
      "source": [
        "# Filtrar provas longas\n",
        "provas_longas = df[df[\"discipline\"].isin([\"800-metres\", \"1500-metres\", \"5000-metres\", \"10000-metres\", \"marathon\"])]\n",
        "\n",
        "# Ordenar por melhor tempo\n",
        "top_longas = provas_longas.sort_values(by=\"mark_numeric\", ascending=True).head(10)\n",
        "\n",
        "# Exibir os resultados\n",
        "print(\"\\n🏅 Top 10 melhores desempenhos nas provas longas:\")\n",
        "print(top_longas[[\"competitor\", \"discipline\", \"mark\", \"date\"]])"
      ],
      "metadata": {
        "colab": {
          "base_uri": "https://localhost:8080/"
        },
        "id": "DOKEXoeK0xw9",
        "outputId": "e9b9f245-3bd7-46f1-f4b5-55e3d3006765"
      },
      "execution_count": null,
      "outputs": [
        {
          "output_type": "stream",
          "name": "stdout",
          "text": [
            "\n",
            "🏅 Top 10 melhores desempenhos nas provas longas:\n",
            "                   competitor discipline     mark        date\n",
            "132668          Kelvin KIPTUM   marathon  2:00:35  2023-10-08\n",
            "132669         Eliud KIPCHOGE   marathon  2:01:09  2022-09-25\n",
            "132670          Kelvin KIPTUM   marathon  2:01:25  2023-04-23\n",
            "132671         Eliud KIPCHOGE   marathon  2:01:39  2018-09-16\n",
            "132672        Kenenisa BEKELE   marathon  2:01:41  2019-09-29\n",
            "132673            Sisay LEMMA   marathon  2:01:48  2023-12-03\n",
            "132674          Kelvin KIPTUM   marathon  2:01:53  2022-12-04\n",
            "132675  Sabastian Kimaru SAWE   marathon  2:02:05  2024-12-01\n",
            "132676         Benson KIPRUTO   marathon  2:02:16  2024-03-03\n",
            "132677  Sabastian Kimaru SAWE   marathon  2:02:27  2025-04-27\n"
          ]
        }
      ]
    },
    {
      "cell_type": "markdown",
      "source": [
        "Agora faremos os top 10 de cada prova comecaremos pelos 100 m"
      ],
      "metadata": {
        "id": "OeZdhdan1DJw"
      }
    },
    {
      "cell_type": "code",
      "source": [
        "top_100m = df[df[\"discipline\"] == \"100-metres\"].sort_values(by=\"mark_numeric\", ascending=True).head(10)\n",
        "print(\"\\n🏅 Top 10 melhores desempenhos nos 100m:\")\n",
        "print(top_100m[[\"competitor\", \"mark\", \"date\"]])"
      ],
      "metadata": {
        "colab": {
          "base_uri": "https://localhost:8080/"
        },
        "id": "DmILFYoS1F1f",
        "outputId": "7185af19-093d-46d6-9b23-76b95305f7b7"
      },
      "execution_count": null,
      "outputs": [
        {
          "output_type": "stream",
          "name": "stdout",
          "text": [
            "\n",
            "🏅 Top 10 melhores desempenhos nos 100m:\n",
            "           competitor  mark        date\n",
            "397965     Usain BOLT  9.58  2009-08-16\n",
            "397966     Usain BOLT  9.63  2012-08-05\n",
            "397969    Yohan BLAKE  9.69  2012-08-23\n",
            "397967     Usain BOLT  9.69  2008-08-16\n",
            "397968      Tyson GAY  9.69  2009-09-20\n",
            "397970      Tyson GAY  9.71  2009-08-16\n",
            "397972   Asafa POWELL  9.72  2008-09-02\n",
            "397971     Usain BOLT  9.72  2008-05-31\n",
            "397974  Justin GATLIN  9.74  2015-05-15\n",
            "397973   Asafa POWELL  9.74  2007-09-09\n"
          ]
        }
      ]
    },
    {
      "cell_type": "markdown",
      "source": [
        "Top 10 Prova de 200 M"
      ],
      "metadata": {
        "id": "xXLOhZUx1M9j"
      }
    },
    {
      "cell_type": "code",
      "source": [
        "top_200m = df[df[\"discipline\"] == \"200-metres\"].sort_values(by=\"mark_numeric\", ascending=True).head(10)\n",
        "print(\"\\n🏅 Top 10 melhores desempenhos nos 200m:\")\n",
        "print(top_200m[[\"competitor\", \"mark\", \"date\"]])"
      ],
      "metadata": {
        "colab": {
          "base_uri": "https://localhost:8080/"
        },
        "id": "0KLAteCI1O2Z",
        "outputId": "4da588d8-f437-422f-9eee-0b3f155b861f"
      },
      "execution_count": null,
      "outputs": [
        {
          "output_type": "stream",
          "name": "stdout",
          "text": [
            "\n",
            "🏅 Top 10 melhores desempenhos nos 200m:\n",
            "            competitor   mark        date\n",
            "48728       Usain BOLT  19.19  2009-08-20\n",
            "48729      Yohan BLAKE  19.26  2011-09-16\n",
            "48730       Usain BOLT   19.3  2008-08-20\n",
            "48731       Noah LYLES  19.31  2022-07-21\n",
            "48732  Michael JOHNSON  19.32  1996-08-01\n",
            "48733       Usain BOLT  19.32  2012-08-09\n",
            "48734       Usain BOLT   19.4  2011-09-03\n",
            "48735      Yohan BLAKE  19.44  2012-08-09\n",
            "48737   Letsile TEBOGO  19.46  2024-08-08\n",
            "48736       Noah LYLES  19.46  2022-08-10\n"
          ]
        }
      ]
    },
    {
      "cell_type": "markdown",
      "source": [
        "Top 10 prova de 400 metros"
      ],
      "metadata": {
        "id": "AU4C1VfG1ROw"
      }
    },
    {
      "cell_type": "code",
      "source": [
        "top_400m = df[df[\"discipline\"] == \"400-metres\"].sort_values(by=\"mark_numeric\", ascending=True).head(10)\n",
        "print(\"\\n🏅 Top 10 melhores desempenhos nos 400m:\")\n",
        "print(top_400m[[\"competitor\", \"mark\", \"date\"]])"
      ],
      "metadata": {
        "colab": {
          "base_uri": "https://localhost:8080/"
        },
        "id": "X-a2CUvx1Q6A",
        "outputId": "0745d95a-ada8-4024-d968-e517baadda72"
      },
      "execution_count": null,
      "outputs": [
        {
          "output_type": "stream",
          "name": "stdout",
          "text": [
            "\n",
            "🏅 Top 10 melhores desempenhos nos 400m:\n",
            "                  competitor   mark        date\n",
            "121464     Wayde VAN NIEKERK  43.03  2016-08-14\n",
            "121465       Michael JOHNSON  43.18  1999-08-26\n",
            "121466        Butch REYNOLDS  43.29  1988-08-17\n",
            "121467       Michael JOHNSON  43.39  1995-08-09\n",
            "121468           Quincy HALL   43.4  2024-08-07\n",
            "121469       Michael JOHNSON  43.44  1996-06-19\n",
            "121470  Matthew HUDSON-SMITH  43.44  2024-08-07\n",
            "121472        Michael NORMAN  43.45  2019-04-20\n",
            "121471        Jeremy WARINER  43.45  2007-08-31\n",
            "121473     Wayde VAN NIEKERK  43.48  2015-08-26\n"
          ]
        }
      ]
    },
    {
      "cell_type": "markdown",
      "source": [
        "Top 10 da Maratona"
      ],
      "metadata": {
        "id": "iK5u74ie1ayj"
      }
    },
    {
      "cell_type": "code",
      "source": [
        "# Filtrar os registros da Maratona\n",
        "top_marathon = df[df[\"discipline\"] == \"marathon\"].sort_values(by=\"mark_numeric\", ascending=True).head(10)\n",
        "\n",
        "# Exibir os resultados\n",
        "print(\"\\n🏅 Top 10 melhores desempenhos na Maratona:\")\n",
        "print(top_marathon[[\"competitor\", \"mark\", \"date\"]])"
      ],
      "metadata": {
        "colab": {
          "base_uri": "https://localhost:8080/"
        },
        "id": "vMLkqFTT1ecb",
        "outputId": "5c5e4a00-2e99-4bd9-fb1f-0880f6730f9f"
      },
      "execution_count": null,
      "outputs": [
        {
          "output_type": "stream",
          "name": "stdout",
          "text": [
            "\n",
            "🏅 Top 10 melhores desempenhos na Maratona:\n",
            "                   competitor     mark        date\n",
            "132668          Kelvin KIPTUM  2:00:35  2023-10-08\n",
            "132669         Eliud KIPCHOGE  2:01:09  2022-09-25\n",
            "132670          Kelvin KIPTUM  2:01:25  2023-04-23\n",
            "132671         Eliud KIPCHOGE  2:01:39  2018-09-16\n",
            "132672        Kenenisa BEKELE  2:01:41  2019-09-29\n",
            "132673            Sisay LEMMA  2:01:48  2023-12-03\n",
            "132674          Kelvin KIPTUM  2:01:53  2022-12-04\n",
            "132675  Sabastian Kimaru SAWE  2:02:05  2024-12-01\n",
            "132676         Benson KIPRUTO  2:02:16  2024-03-03\n",
            "132677  Sabastian Kimaru SAWE  2:02:27  2025-04-27\n"
          ]
        }
      ]
    },
    {
      "cell_type": "markdown",
      "source": [
        "Graficos comparativos das provas dos 100 metros"
      ],
      "metadata": {
        "id": "J8GmsZDu3gX3"
      }
    },
    {
      "cell_type": "code",
      "source": [
        "import matplotlib.pyplot as plt\n",
        "import seaborn as sns\n",
        "\n",
        "plt.figure(figsize=(12, 6))\n",
        "sns.barplot(x=\"mark_numeric\", y=\"competitor\", hue=\"competitor\", data=top_100m, palette=\"Reds_r\", legend=False)\n",
        "plt.title(\" Top 10 Melhores Tempos nos 100m\")\n",
        "plt.xlabel(\"Tempo (segundos)\")\n",
        "plt.ylabel(\"Atleta\")\n",
        "plt.show()"
      ],
      "metadata": {
        "colab": {
          "base_uri": "https://localhost:8080/",
          "height": 564
        },
        "id": "u-rDZShO3j9n",
        "outputId": "f6da2fa9-c819-4495-da85-b6d8d2f0864d"
      },
      "execution_count": null,
      "outputs": [
        {
          "output_type": "display_data",
          "data": {
            "text/plain": [
              "<Figure size 1200x600 with 1 Axes>"
            ],
            "image/png": "[encoded data removed]"
          },
          "metadata": {}
        }
      ]
    },
    {
      "cell_type": "markdown",
      "source": [
        "Graficos comparativos das provas dos 200 metros"
      ],
      "metadata": {
        "id": "dGnazO6q3kUL"
      }
    },
    {
      "cell_type": "code",
      "source": [
        "plt.figure(figsize=(12, 6))\n",
        "sns.barplot(x=\"mark_numeric\", y=\"competitor\", hue=\"competitor\", data=top_200m, palette=\"Blues_r\", legend=False)\n",
        "plt.title(\" Top 10 Melhores Tempos nos 200m\")\n",
        "plt.xlabel(\"Tempo (segundos)\")\n",
        "plt.ylabel(\"Atleta\")\n",
        "plt.show()"
      ],
      "metadata": {
        "colab": {
          "base_uri": "https://localhost:8080/",
          "height": 564
        },
        "id": "py65l6cL3nw8",
        "outputId": "49f9e4fe-2b94-47e4-bb35-e28d896f3cb0"
      },
      "execution_count": null,
      "outputs": [
        {
          "output_type": "display_data",
          "data": {
            "text/plain": [
              "<Figure size 1200x600 with 1 Axes>"
            ],
            "image/png": "[encoded data removed]"
          },
          "metadata": {}
        }
      ]
    },
    {
      "cell_type": "markdown",
      "source": [
        "Graficos comparativos das provas dos 400 metros"
      ],
      "metadata": {
        "id": "29AFeb213oD7"
      }
    },
    {
      "cell_type": "code",
      "source": [
        "plt.figure(figsize=(12, 6))\n",
        "sns.barplot(x=\"mark_numeric\", y=\"competitor\", hue=\"competitor\", data=top_400m, palette=\"Greens_r\", legend=False)\n",
        "plt.title(\" Top 10 Melhores Tempos nos 400m\")\n",
        "plt.xlabel(\"Tempo (segundos)\")\n",
        "plt.ylabel(\"Atleta\")\n",
        "plt.show()"
      ],
      "metadata": {
        "colab": {
          "base_uri": "https://localhost:8080/",
          "height": 564
        },
        "id": "Yk30qaLb3qNr",
        "outputId": "3801b0d6-4caa-49b1-895b-4311da274f80"
      },
      "execution_count": null,
      "outputs": [
        {
          "output_type": "display_data",
          "data": {
            "text/plain": [
              "<Figure size 1200x600 with 1 Axes>"
            ],
            "image/png": "[encoded data removed]"
          },
          "metadata": {}
        }
      ]
    },
    {
      "cell_type": "markdown",
      "source": [
        "Graficos comparativos da maratona"
      ],
      "metadata": {
        "id": "nzHCIG1n3qmT"
      }
    },
    {
      "cell_type": "code",
      "source": [
        "plt.figure(figsize=(12, 6))\n",
        "sns.barplot(x=\"mark_numeric\", y=\"competitor\", hue=\"competitor\", data=top_marathon, palette=\"Purples_r\", legend=False)\n",
        "plt.title(\" Top 10 Melhores Tempos na Maratona\")\n",
        "plt.xlabel(\"Tempo (horas)\")\n",
        "plt.ylabel(\"Atleta\")\n",
        "plt.show()"
      ],
      "metadata": {
        "colab": {
          "base_uri": "https://localhost:8080/",
          "height": 564
        },
        "id": "Y0oQsUTq3txE",
        "outputId": "83101c96-4c49-499c-c5e2-0ee3c73bb69b"
      },
      "execution_count": null,
      "outputs": [
        {
          "output_type": "display_data",
          "data": {
            "text/plain": [
              "<Figure size 1200x600 with 1 Axes>"
            ],
            "image/png": "[encoded data removed]"
          },
          "metadata": {}
        }
      ]
    },
    {
      "cell_type": "markdown",
      "source": [
        "### **📊 Conclusões da Análise dos Melhores Desempenhos no Atletismo**\n",
        "\n",
        "Após analisar os **melhores tempos** nas provas de **100m, 200m, 400m e Maratona**, podemos identificar padrões importantes sobre **os atletas, a evolução dos tempos e o domínio por país**.\n",
        "\n",
        "---\n",
        "\n",
        "### **1️⃣ Domínio de Usain Bolt nas provas curtas (100m e 200m)**\n",
        "O jamaicano **Usain Bolt** consolidou seu lugar como o maior velocista da história, liderando tanto o **100m** (9.58s) quanto o **200m** (19.19s). Outros destaques incluem:\n",
        "✅ **Yohan Blake** e **Tyson Gay**, que conseguiram tempos abaixo de **9.70s** nos 100m.  \n",
        "✅ **Michael Johnson** e **Noah Lyles**, que aparecem entre os melhores tempos nos 200m.  \n",
        "\n",
        "🔹 **Conclusão:** A **Jamaica** domina as provas de velocidade, com Bolt e Blake garantindo o topo dos rankings.\n",
        "\n",
        "---\n",
        "\n",
        "### **2️⃣ Evolução nos 400m – Velocidade e resistência**\n",
        "✅ **Wayde Van Niekerk** detém o recorde mundial com **43.03s** (Rio 2016), seguido por **Michael Johnson** e **Butch Reynolds**.  \n",
        "✅ Os EUA são a força dominante na prova, com múltiplos atletas na lista de melhores desempenhos.  \n",
        "\n",
        "🔹 **Conclusão:** A combinação de **força e estratégia de corrida** é essencial para dominar os 400m.\n",
        "\n",
        "---\n",
        "\n",
        "### **3️⃣ O domínio do Quênia e Etiópia na Maratona**\n",
        "✅ **Kelvin Kiptum** se tornou o atleta mais rápido da história da Maratona, com **2:00:35** em Chicago (2023).  \n",
        "✅ **Eliud Kipchoge**, um dos maiores maratonistas, segue entre os melhores com tempos abaixo de **2:01:30**.  \n",
        "✅ **Kenenisa Bekele e Sabastian Kimaru Sawe** reforçam o impacto da **Etiópia e Quênia** na resistência.  \n",
        "\n",
        "🔹 **Conclusão:** O **Quênia** lidera a Maratona com uma estratégia de ritmo constante e resistência extrema.\n",
        "\n",
        "---\n",
        "\n",
        "### **🚀 Insights Finais**\n",
        "📌 **Jamaica e EUA** lideram nas provas curtas, com Usain Bolt, Yohan Blake e Noah Lyles.  \n",
        "📌 **EUA dominam os 400m**, enquanto o **Quênia** e a **Etiópia** são imbatíveis nas provas de resistência.  \n",
        "📌 A evolução dos tempos mostra que, apesar da melhoria constante, **recordes como os de Bolt e Kipchoge são difíceis de superar**.  \n"
      ],
      "metadata": {
        "id": "6NrY7AGX5LuA"
      }
    }
  ]
}